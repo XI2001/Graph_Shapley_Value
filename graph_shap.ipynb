{
 "cells": [
  {
   "cell_type": "markdown",
   "id": "a0537c42",
   "metadata": {},
   "source": [
    "# 一些基础性的内容"
   ]
  },
  {
   "cell_type": "code",
   "execution_count": 88,
   "id": "5f7badee",
   "metadata": {},
   "outputs": [
    {
     "name": "stdout",
     "output_type": "stream",
     "text": [
      "[{0, 1, 2}, {3, 4, 5}]\n"
     ]
    }
   ],
   "source": [
    "import numpy as np\n",
    "import networkx as nx\n",
    "from itertools import chain, combinations\n",
    "import math\n",
    "import pandas as pd\n",
    "\n",
    "# 示例邻接矩阵（无向图）\n",
    "A = np.array([\n",
    "\t[0, 1, 0, 0, 0, 0],\n",
    "\t[1, 0, 1, 0, 0, 0],\n",
    "\t[0, 1, 0, 0, 0, 0],\n",
    "\t[0, 0, 0, 0, 1, 1],\n",
    "\t[0, 0, 0, 1, 0, 1],\n",
    "\t[0, 0, 0, 1, 1, 0]\n",
    "])\n",
    "\n",
    "# 将邻接矩阵转换为 NetworkX 图\n",
    "G = nx.from_numpy_array(A)\n",
    "# 找到子图\n",
    "nx.to_numpy_array(G.subgraph([2,3,4]))\n",
    "# 找到所有连通子图（返回的是节点集合的列表）\n",
    "components = list(nx.connected_components(G))\n",
    "print(components)\n"
   ]
  },
  {
   "cell_type": "markdown",
   "id": "f59a89e7",
   "metadata": {},
   "source": [
    "- 集合比较"
   ]
  },
  {
   "cell_type": "code",
   "execution_count": 73,
   "id": "8c5ab384",
   "metadata": {},
   "outputs": [
    {
     "data": {
      "text/plain": [
       "True"
      ]
     },
     "execution_count": 73,
     "metadata": {},
     "output_type": "execute_result"
    }
   ],
   "source": [
    "a = frozenset([1, 3])\n",
    "b = frozenset([3, 1])\n",
    "a==b"
   ]
  },
  {
   "cell_type": "markdown",
   "id": "11b14ec1",
   "metadata": {},
   "source": [
    "# 定义给定的graph $g$ 下，对应的群体的 total payoff 的计算 （后面需要个人自己定义）"
   ]
  },
  {
   "cell_type": "code",
   "execution_count": 74,
   "id": "e1380ed8",
   "metadata": {},
   "outputs": [],
   "source": [
    "def characteristic_function_cooperation(cooperation_set=[1,2,3]):\n",
    "\t\"\"\"\n",
    "\t计算如果一群人成功合作了，产生多少的价值\n",
    "\t\n",
    "\t参数:\n",
    "\tcooperation_set (list): 合作集，默认为 [1, 2, 3]\n",
    "\t\n",
    "\t返回:\n",
    "\tint: 合作集的特征函数值\n",
    "\t\"\"\"\n",
    "\n",
    "\tvalue_dict = {\n",
    "\t\tfrozenset([1]): 0,\n",
    "\t\tfrozenset([2]): 0,\n",
    "\t\tfrozenset([3]): 0,\n",
    "\t\tfrozenset([1, 3]): 6,\n",
    "\t\tfrozenset([2, 3]): 6,\n",
    "\t\tfrozenset([1, 2]): 12,\n",
    "\t\tfrozenset([1, 2, 3]): 12\n",
    "\t}\n",
    "\tif not isinstance(cooperation_set, frozenset):\n",
    "\t\tcooperation_set = frozenset(cooperation_set)\n",
    "\n",
    "\tif cooperation_set not in value_dict:\n",
    "\t\treturn 0\n",
    "\n",
    "\treturn value_dict[cooperation_set]\n",
    "\n",
    "def graph_based_characteristic_function(g, coalition_set=[1,2,3], characteristic_function=characteristic_function_cooperation):\n",
    "\t\"\"\"\n",
    "\t计算图的特征函数。\n",
    "\t\n",
    "\t参数:\n",
    "\tg (networkx.Graph): 给定的合作图 g \\in GR\n",
    "\t\n",
    "\t返回:\n",
    "\tdict: 图的特征函数，键为节点，值为该节点所在连通子图的标识符\n",
    "\t\"\"\"\n",
    "\t# 根据给定的g，查看可行的最大的合作网络\n",
    "\tsubgraph = G.subgraph(coalition_set)\n",
    "\t# 所有人员的总payoff\n",
    "\tvalue = 0\n",
    "\tfor coalition in nx.connected_components(subgraph):\n",
    "\t\tcoalition = frozenset(coalition)\n",
    "\t\tvalue += characteristic_function(coalition)\n",
    "\n",
    "\treturn value\n"
   ]
  },
  {
   "cell_type": "markdown",
   "id": "40fcb492",
   "metadata": {},
   "source": [
    "# 计算Graph Shapley Value"
   ]
  },
  {
   "cell_type": "code",
   "execution_count": 76,
   "id": "40f0ee1e",
   "metadata": {},
   "outputs": [],
   "source": [
    "def powerset(iterable, drop_last=True):\n",
    "    \"\"\"\n",
    "    计算所有的子集（幂集），可选地排除最后一个空集。\n",
    "\n",
    "    Args:\n",
    "        iterable (_type_): compute the powerset of this iterable\n",
    "        drop_last (bool, optional): _description_. Defaults to True. Ignore the full set.\n",
    "\n",
    "    Returns:\n",
    "        _type_: a list of all subsets of the iterable\n",
    "    \"\"\"\n",
    "    s = list(iterable)\n",
    "    if drop_last:\n",
    "        return list(chain.from_iterable(combinations(s, r) for r in range(len(s))))\n",
    "    else:\n",
    "        return list(chain.from_iterable(combinations(s, r) for r in range(len(s)+1)))"
   ]
  },
  {
   "cell_type": "code",
   "execution_count": 79,
   "id": "a2daa8b1",
   "metadata": {},
   "outputs": [],
   "source": [
    "def graph_shapley_value(g, characteristic_function=graph_based_characteristic_function):\n",
    "    \"\"\"\n",
    "    计算图的Shapley值。\n",
    "    \n",
    "    参数:\n",
    "    g (networkx.Graph): 给定的合作图 g \\in GR\n",
    "    characteristic_function (function): 图的特征函数，默认为 graph_based_characteristic_function\n",
    "    \n",
    "    返回:\n",
    "    dict: 图的Shapley值，键为节点，值为该节点的Shapley值\n",
    "    \"\"\"\n",
    "    # 找到所有参与分配的节点\n",
    "    all_nodes = list(g.nodes())\n",
    "    # 计算所有可能的合作\n",
    "    all_potential_coalition_sets = powerset(all_nodes, drop_last=False)\n",
    "    coalition_set_payoffs = {\n",
    "        frozenset(coalition_set): characteristic_function(g, coalition_set=coalition_set)\n",
    "        for coalition_set in all_potential_coalition_sets\n",
    "    }\n",
    "\n",
    "    \n",
    "    shapley_value = {node: 0 for node in all_nodes}\n",
    "    \n",
    "    n = len(all_nodes)\n",
    "    \n",
    "    for node in all_nodes:\n",
    "        for coalition_set, value in coalition_set_payoffs.items():\n",
    "            if node in coalition_set:\n",
    "                # 计算节点在该合作集中的边际贡献\n",
    "                without_node_coalition_set = coalition_set - frozenset([node])\n",
    "                if without_node_coalition_set in coalition_set_payoffs:\n",
    "                    marginal_contribution = value - coalition_set_payoffs[without_node_coalition_set]\n",
    "                    shapley_value[node] += marginal_contribution * math.factorial(len(without_node_coalition_set)) * math.factorial(n - len(coalition_set))\n",
    "        shapley_value[node] /= math.factorial(n)\n",
    "    return shapley_value, coalition_set_payoffs"
   ]
  },
  {
   "cell_type": "markdown",
   "id": "fc60f78e",
   "metadata": {},
   "source": [
    "# 测试"
   ]
  },
  {
   "cell_type": "code",
   "execution_count": 97,
   "id": "2a6cb2c5",
   "metadata": {},
   "outputs": [
    {
     "name": "stdout",
     "output_type": "stream",
     "text": [
      "Shapley value: {1: 4.0, 2: 7.0, 3: 1.0}\n"
     ]
    },
    {
     "data": {
      "application/vnd.microsoft.datawrangler.viewer.v0+json": {
       "columns": [
        {
         "name": "index",
         "rawType": "int64",
         "type": "integer"
        },
        {
         "name": "coalition_set",
         "rawType": "object",
         "type": "unknown"
        },
        {
         "name": "payoff",
         "rawType": "int64",
         "type": "integer"
        }
       ],
       "ref": "ed897d9b-c615-4c71-a2f0-5e163f1f1eeb",
       "rows": [
        [
         "0",
         "[]",
         "0"
        ],
        [
         "1",
         "[1]",
         "0"
        ],
        [
         "2",
         "[2]",
         "0"
        ],
        [
         "3",
         "[3]",
         "0"
        ],
        [
         "4",
         "[1, 2]",
         "12"
        ],
        [
         "5",
         "[1, 3]",
         "0"
        ],
        [
         "6",
         "[2, 3]",
         "6"
        ],
        [
         "7",
         "[1, 2, 3]",
         "12"
        ]
       ],
       "shape": {
        "columns": 2,
        "rows": 8
       }
      },
      "text/html": [
       "<div>\n",
       "<style scoped>\n",
       "    .dataframe tbody tr th:only-of-type {\n",
       "        vertical-align: middle;\n",
       "    }\n",
       "\n",
       "    .dataframe tbody tr th {\n",
       "        vertical-align: top;\n",
       "    }\n",
       "\n",
       "    .dataframe thead th {\n",
       "        text-align: right;\n",
       "    }\n",
       "</style>\n",
       "<table border=\"1\" class=\"dataframe\">\n",
       "  <thead>\n",
       "    <tr style=\"text-align: right;\">\n",
       "      <th></th>\n",
       "      <th>coalition_set</th>\n",
       "      <th>payoff</th>\n",
       "    </tr>\n",
       "  </thead>\n",
       "  <tbody>\n",
       "    <tr>\n",
       "      <th>0</th>\n",
       "      <td>[]</td>\n",
       "      <td>0</td>\n",
       "    </tr>\n",
       "    <tr>\n",
       "      <th>1</th>\n",
       "      <td>[1]</td>\n",
       "      <td>0</td>\n",
       "    </tr>\n",
       "    <tr>\n",
       "      <th>2</th>\n",
       "      <td>[2]</td>\n",
       "      <td>0</td>\n",
       "    </tr>\n",
       "    <tr>\n",
       "      <th>3</th>\n",
       "      <td>[3]</td>\n",
       "      <td>0</td>\n",
       "    </tr>\n",
       "    <tr>\n",
       "      <th>4</th>\n",
       "      <td>[1, 2]</td>\n",
       "      <td>12</td>\n",
       "    </tr>\n",
       "    <tr>\n",
       "      <th>5</th>\n",
       "      <td>[1, 3]</td>\n",
       "      <td>0</td>\n",
       "    </tr>\n",
       "    <tr>\n",
       "      <th>6</th>\n",
       "      <td>[2, 3]</td>\n",
       "      <td>6</td>\n",
       "    </tr>\n",
       "    <tr>\n",
       "      <th>7</th>\n",
       "      <td>[1, 2, 3]</td>\n",
       "      <td>12</td>\n",
       "    </tr>\n",
       "  </tbody>\n",
       "</table>\n",
       "</div>"
      ],
      "text/plain": [
       "  coalition_set  payoff\n",
       "0            []       0\n",
       "1           [1]       0\n",
       "2           [2]       0\n",
       "3           [3]       0\n",
       "4        [1, 2]      12\n",
       "5        [1, 3]       0\n",
       "6        [2, 3]       6\n",
       "7     [1, 2, 3]      12"
      ]
     },
     "execution_count": 97,
     "metadata": {},
     "output_type": "execute_result"
    }
   ],
   "source": [
    "G = nx.Graph()\n",
    "G.add_nodes_from([1,2,3])\n",
    "G.add_edges_from([(1,2), (2,3)])\n",
    "\n",
    "# 测试Shapley value的计算是否正确\n",
    "shapley_value, all_potential_coaltition_set_payoffs = graph_shapley_value(G, characteristic_function=graph_based_characteristic_function)\n",
    "print(\"Shapley value:\", shapley_value)\n",
    "payoff_sheet = pd.DataFrame.from_dict(all_potential_coaltition_set_payoffs, orient='index', columns=['payoff']).reset_index().rename(columns={'index': 'coalition_set'})\n",
    "payoff_sheet.iloc[:, 0] = payoff_sheet.iloc[:, 0].apply(lambda x: list(x))\n",
    "payoff_sheet"
   ]
  }
 ],
 "metadata": {
  "kernelspec": {
   "display_name": "deeplEnv",
   "language": "python",
   "name": "python3"
  },
  "language_info": {
   "codemirror_mode": {
    "name": "ipython",
    "version": 3
   },
   "file_extension": ".py",
   "mimetype": "text/x-python",
   "name": "python",
   "nbconvert_exporter": "python",
   "pygments_lexer": "ipython3",
   "version": "3.10.13"
  }
 },
 "nbformat": 4,
 "nbformat_minor": 5
}
